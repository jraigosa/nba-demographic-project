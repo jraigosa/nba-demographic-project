{
 "cells": [
  {
   "cell_type": "code",
   "execution_count": 1,
   "metadata": {},
   "outputs": [],
   "source": [
    "#Dependencies\n",
    "import pandas as pd\n",
    "import numpy as np"
   ]
  },
  {
   "cell_type": "code",
   "execution_count": 2,
   "metadata": {},
   "outputs": [],
   "source": [
    "#Import data, ignore first column in Players.csv\n",
    "\n",
    "col = range(1,8)\n",
    "players = pd.read_csv(\"../Resources/original_data/Players.csv\", usecols=col)\n",
    "player_data = pd.read_csv(\"../Resources/original_data/player_data.csv\")"
   ]
  },
  {
   "cell_type": "code",
   "execution_count": 3,
   "metadata": {},
   "outputs": [],
   "source": [
    "#Drop unwanted column and rename player column\n",
    "\n",
    "players.drop(columns=['born', 'weight'], inplace=True)\n",
    "players.rename(columns={\"Player\": \"name\", \"collage\": \"college\"}, inplace=True)"
   ]
  },
  {
   "cell_type": "code",
   "execution_count": 4,
   "metadata": {},
   "outputs": [],
   "source": [
    "#Create seasons_played column using year_start and year_end\n",
    "\n",
    "player_data['seasons_played'] = player_data['year_end'] - player_data['year_start']"
   ]
  },
  {
   "cell_type": "code",
   "execution_count": 5,
   "metadata": {},
   "outputs": [],
   "source": [
    "#Drop unwanted columns\n",
    "\n",
    "player_data.drop(columns=['year_end', 'height', 'weight'], inplace=True)"
   ]
  },
  {
   "cell_type": "code",
   "execution_count": 6,
   "metadata": {},
   "outputs": [],
   "source": [
    "#Drop rows with no data for birth location\n",
    "\n",
    "players.dropna(subset=['birth_city', 'birth_state'], inplace=True)"
   ]
  },
  {
   "cell_type": "code",
   "execution_count": 7,
   "metadata": {},
   "outputs": [],
   "source": [
    "#Merge the two dataframes on player name and college attended\n",
    "\n",
    "players_merged = pd.merge(players, player_data, on=[\"name\", \"college\"], how=\"outer\")"
   ]
  },
  {
   "cell_type": "code",
   "execution_count": 8,
   "metadata": {},
   "outputs": [],
   "source": [
    "#Drop rows with no data for birth location\n",
    "\n",
    "players_merged.dropna(subset=['birth_city', 'birth_state'], inplace=True)"
   ]
  },
  {
   "cell_type": "code",
   "execution_count": 10,
   "metadata": {},
   "outputs": [],
   "source": [
    "cols=['name','birth_date','birth_city','birth_state','college','height','position','year_start','seasons_played']"
   ]
  },
  {
   "cell_type": "code",
   "execution_count": 12,
   "metadata": {},
   "outputs": [
    {
     "data": {
      "text/html": [
       "<div>\n",
       "<style scoped>\n",
       "    .dataframe tbody tr th:only-of-type {\n",
       "        vertical-align: middle;\n",
       "    }\n",
       "\n",
       "    .dataframe tbody tr th {\n",
       "        vertical-align: top;\n",
       "    }\n",
       "\n",
       "    .dataframe thead th {\n",
       "        text-align: right;\n",
       "    }\n",
       "</style>\n",
       "<table border=\"1\" class=\"dataframe\">\n",
       "  <thead>\n",
       "    <tr style=\"text-align: right;\">\n",
       "      <th></th>\n",
       "      <th>name</th>\n",
       "      <th>birth_date</th>\n",
       "      <th>birth_city</th>\n",
       "      <th>birth_state</th>\n",
       "      <th>college</th>\n",
       "      <th>height</th>\n",
       "      <th>position</th>\n",
       "      <th>year_start</th>\n",
       "      <th>seasons_played</th>\n",
       "    </tr>\n",
       "  </thead>\n",
       "  <tbody>\n",
       "    <tr>\n",
       "      <td>0</td>\n",
       "      <td>Cliff Barker</td>\n",
       "      <td>January 15, 1921</td>\n",
       "      <td>Yorktown</td>\n",
       "      <td>Indiana</td>\n",
       "      <td>University of Kentucky</td>\n",
       "      <td>188.0</td>\n",
       "      <td>G</td>\n",
       "      <td>1950.0</td>\n",
       "      <td>2.0</td>\n",
       "    </tr>\n",
       "    <tr>\n",
       "      <td>1</td>\n",
       "      <td>Ralph Beard</td>\n",
       "      <td>December 2, 1927</td>\n",
       "      <td>Hardinsburg</td>\n",
       "      <td>Kentucky</td>\n",
       "      <td>University of Kentucky</td>\n",
       "      <td>178.0</td>\n",
       "      <td>G</td>\n",
       "      <td>1950.0</td>\n",
       "      <td>1.0</td>\n",
       "    </tr>\n",
       "    <tr>\n",
       "      <td>2</td>\n",
       "      <td>Charlie Black</td>\n",
       "      <td>June 15, 1921</td>\n",
       "      <td>Arco</td>\n",
       "      <td>Idaho</td>\n",
       "      <td>University of Kansas</td>\n",
       "      <td>196.0</td>\n",
       "      <td>F-C</td>\n",
       "      <td>1949.0</td>\n",
       "      <td>3.0</td>\n",
       "    </tr>\n",
       "    <tr>\n",
       "      <td>3</td>\n",
       "      <td>Nelson Bobb</td>\n",
       "      <td>February 25, 1924</td>\n",
       "      <td>Philadelphia</td>\n",
       "      <td>Pennsylvania</td>\n",
       "      <td>Temple University</td>\n",
       "      <td>183.0</td>\n",
       "      <td>G</td>\n",
       "      <td>1950.0</td>\n",
       "      <td>3.0</td>\n",
       "    </tr>\n",
       "    <tr>\n",
       "      <td>4</td>\n",
       "      <td>Jake Bornheimer</td>\n",
       "      <td>June 29, 1927</td>\n",
       "      <td>New Brunswick</td>\n",
       "      <td>New Jersey</td>\n",
       "      <td>Muhlenberg College</td>\n",
       "      <td>196.0</td>\n",
       "      <td>F-C</td>\n",
       "      <td>1949.0</td>\n",
       "      <td>1.0</td>\n",
       "    </tr>\n",
       "    <tr>\n",
       "      <td>...</td>\n",
       "      <td>...</td>\n",
       "      <td>...</td>\n",
       "      <td>...</td>\n",
       "      <td>...</td>\n",
       "      <td>...</td>\n",
       "      <td>...</td>\n",
       "      <td>...</td>\n",
       "      <td>...</td>\n",
       "      <td>...</td>\n",
       "    </tr>\n",
       "    <tr>\n",
       "      <td>3437</td>\n",
       "      <td>Troy Williams</td>\n",
       "      <td>NaN</td>\n",
       "      <td>Columbia</td>\n",
       "      <td>South Carolina</td>\n",
       "      <td>South Carolina State University</td>\n",
       "      <td>198.0</td>\n",
       "      <td>NaN</td>\n",
       "      <td>NaN</td>\n",
       "      <td>NaN</td>\n",
       "    </tr>\n",
       "    <tr>\n",
       "      <td>3438</td>\n",
       "      <td>Kyle Wiltjer</td>\n",
       "      <td>October 20, 1992</td>\n",
       "      <td>Portland</td>\n",
       "      <td>Oregon</td>\n",
       "      <td>Gonzaga University</td>\n",
       "      <td>208.0</td>\n",
       "      <td>F</td>\n",
       "      <td>2017.0</td>\n",
       "      <td>0.0</td>\n",
       "    </tr>\n",
       "    <tr>\n",
       "      <td>3439</td>\n",
       "      <td>Stephen Zimmerman</td>\n",
       "      <td>September 9, 1996</td>\n",
       "      <td>Hendersonville</td>\n",
       "      <td>Tennessee</td>\n",
       "      <td>University of Nevada, Las Vegas</td>\n",
       "      <td>213.0</td>\n",
       "      <td>C</td>\n",
       "      <td>2017.0</td>\n",
       "      <td>0.0</td>\n",
       "    </tr>\n",
       "    <tr>\n",
       "      <td>3440</td>\n",
       "      <td>Paul Zipser</td>\n",
       "      <td>February 18, 1994</td>\n",
       "      <td>Heidelberg</td>\n",
       "      <td>Germany</td>\n",
       "      <td>NaN</td>\n",
       "      <td>203.0</td>\n",
       "      <td>G-F</td>\n",
       "      <td>2017.0</td>\n",
       "      <td>1.0</td>\n",
       "    </tr>\n",
       "    <tr>\n",
       "      <td>3441</td>\n",
       "      <td>Ivica Zubac</td>\n",
       "      <td>March 18, 1997</td>\n",
       "      <td>Mostar</td>\n",
       "      <td>Bosnia and Herzegovina</td>\n",
       "      <td>NaN</td>\n",
       "      <td>216.0</td>\n",
       "      <td>C</td>\n",
       "      <td>2017.0</td>\n",
       "      <td>1.0</td>\n",
       "    </tr>\n",
       "  </tbody>\n",
       "</table>\n",
       "<p>3442 rows × 9 columns</p>\n",
       "</div>"
      ],
      "text/plain": [
       "                   name         birth_date      birth_city  \\\n",
       "0          Cliff Barker   January 15, 1921        Yorktown   \n",
       "1           Ralph Beard   December 2, 1927     Hardinsburg   \n",
       "2         Charlie Black      June 15, 1921            Arco   \n",
       "3           Nelson Bobb  February 25, 1924    Philadelphia   \n",
       "4       Jake Bornheimer      June 29, 1927   New Brunswick   \n",
       "...                 ...                ...             ...   \n",
       "3437      Troy Williams                NaN        Columbia   \n",
       "3438       Kyle Wiltjer   October 20, 1992        Portland   \n",
       "3439  Stephen Zimmerman  September 9, 1996  Hendersonville   \n",
       "3440        Paul Zipser  February 18, 1994      Heidelberg   \n",
       "3441        Ivica Zubac     March 18, 1997          Mostar   \n",
       "\n",
       "                 birth_state                          college  height  \\\n",
       "0                    Indiana           University of Kentucky   188.0   \n",
       "1                   Kentucky           University of Kentucky   178.0   \n",
       "2                      Idaho             University of Kansas   196.0   \n",
       "3               Pennsylvania                Temple University   183.0   \n",
       "4                 New Jersey               Muhlenberg College   196.0   \n",
       "...                      ...                              ...     ...   \n",
       "3437          South Carolina  South Carolina State University   198.0   \n",
       "3438                  Oregon               Gonzaga University   208.0   \n",
       "3439               Tennessee  University of Nevada, Las Vegas   213.0   \n",
       "3440                 Germany                              NaN   203.0   \n",
       "3441  Bosnia and Herzegovina                              NaN   216.0   \n",
       "\n",
       "     position  year_start  seasons_played  \n",
       "0           G      1950.0             2.0  \n",
       "1           G      1950.0             1.0  \n",
       "2         F-C      1949.0             3.0  \n",
       "3           G      1950.0             3.0  \n",
       "4         F-C      1949.0             1.0  \n",
       "...       ...         ...             ...  \n",
       "3437      NaN         NaN             NaN  \n",
       "3438        F      2017.0             0.0  \n",
       "3439        C      2017.0             0.0  \n",
       "3440      G-F      2017.0             1.0  \n",
       "3441        C      2017.0             1.0  \n",
       "\n",
       "[3442 rows x 9 columns]"
      ]
     },
     "execution_count": 12,
     "metadata": {},
     "output_type": "execute_result"
    }
   ],
   "source": [
    "players_merged = players_merged[cols]\n",
    "players_merged"
   ]
  },
  {
   "cell_type": "code",
   "execution_count": null,
   "metadata": {},
   "outputs": [],
   "source": [
    "US_states = [\"Alabama\",\"Alaska\",\"Arizona\",\"Arkansas\",\"California\",\"Colorado\",\n",
    "  \"Connecticut\",\"Delaware\",\"District of Columbia\",\"Florida\",\"Georgia\",\"Hawaii\",\"Idaho\",\"Illinois\",\n",
    "  \"Indiana\",\"Iowa\",\"Kansas\",\"Kentucky\",\"Louisiana\",\"Maine\",\"Maryland\",\n",
    "  \"Massachusetts\",\"Michigan\",\"Minnesota\",\"Mississippi\",\"Missouri\",\"Montana\",\n",
    "  \"Nebraska\",\"Nevada\",\"New Hampshire\",\"New Jersey\",\"New Mexico\",\"New York\",\n",
    "  \"North Carolina\",\"North Dakota\",\"Ohio\",\"Oklahoma\",\"Oregon\",\"Pennsylvania\",\n",
    "  \"Rhode Island\",\"South Carolina\",\"South Dakota\",\"Tennessee\",\"Texas\",\"Utah\",\n",
    "  \"Vermont\",\"Virginia\",\"Washington\",\"West Virginia\",\"Wisconsin\",\"Wyoming\"]"
   ]
  },
  {
   "cell_type": "code",
   "execution_count": null,
   "metadata": {},
   "outputs": [],
   "source": [
    "us_df = players_merged[players_merged['birth_state'].isin(US_states)]\n",
    "us_df"
   ]
  },
  {
   "cell_type": "code",
   "execution_count": null,
   "metadata": {},
   "outputs": [],
   "source": [
    "us_df['birth_city'].value_counts().head(10)"
   ]
  },
  {
   "cell_type": "code",
   "execution_count": null,
   "metadata": {},
   "outputs": [],
   "source": [
    "us_df['birth_state'].value_counts().head(10)"
   ]
  },
  {
   "cell_type": "code",
   "execution_count": null,
   "metadata": {},
   "outputs": [],
   "source": [
    "international_df = players_merged[~players_merged['birth_state'].isin(US_states)]\n",
    "international_df"
   ]
  },
  {
   "cell_type": "code",
   "execution_count": null,
   "metadata": {},
   "outputs": [],
   "source": [
    "international_df['birth_state'].value_counts().head(20)"
   ]
  },
  {
   "cell_type": "code",
   "execution_count": null,
   "metadata": {},
   "outputs": [],
   "source": [
    "us_df.to_csv('US_players.csv')"
   ]
  },
  {
   "cell_type": "code",
   "execution_count": null,
   "metadata": {},
   "outputs": [],
   "source": [
    "international_df.to_csv('International_players.csv')"
   ]
  },
  {
   "cell_type": "code",
   "execution_count": null,
   "metadata": {},
   "outputs": [],
   "source": [
    "players_merged.to_csv('All_players')"
   ]
  }
 ],
 "metadata": {
  "kernelspec": {
   "display_name": "Python 3",
   "language": "python",
   "name": "python3"
  },
  "language_info": {
   "codemirror_mode": {
    "name": "ipython",
    "version": 3
   },
   "file_extension": ".py",
   "mimetype": "text/x-python",
   "name": "python",
   "nbconvert_exporter": "python",
   "pygments_lexer": "ipython3",
   "version": "3.7.4"
  }
 },
 "nbformat": 4,
 "nbformat_minor": 2
}
